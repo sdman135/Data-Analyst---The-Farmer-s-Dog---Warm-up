{
 "cells": [
  {
   "cell_type": "code",
   "execution_count": 1,
   "metadata": {
    "ExecuteTime": {
     "end_time": "2021-02-06T20:24:27.446754Z",
     "start_time": "2021-02-06T20:24:25.646739Z"
    }
   },
   "outputs": [],
   "source": [
    "import pandas as pd\n"
   ]
  },
  {
   "cell_type": "code",
   "execution_count": 2,
   "metadata": {
    "ExecuteTime": {
     "end_time": "2021-02-06T20:24:27.494740Z",
     "start_time": "2021-02-06T20:24:27.449740Z"
    }
   },
   "outputs": [],
   "source": [
    "df = pd.read_csv('general_store_sample_data.csv')"
   ]
  },
  {
   "cell_type": "code",
   "execution_count": 3,
   "metadata": {
    "ExecuteTime": {
     "end_time": "2021-02-06T20:24:27.525739Z",
     "start_time": "2021-02-06T20:24:27.496747Z"
    }
   },
   "outputs": [
    {
     "data": {
      "text/html": [
       "<div>\n",
       "<style scoped>\n",
       "    .dataframe tbody tr th:only-of-type {\n",
       "        vertical-align: middle;\n",
       "    }\n",
       "\n",
       "    .dataframe tbody tr th {\n",
       "        vertical-align: top;\n",
       "    }\n",
       "\n",
       "    .dataframe thead th {\n",
       "        text-align: right;\n",
       "    }\n",
       "</style>\n",
       "<table border=\"1\" class=\"dataframe\">\n",
       "  <thead>\n",
       "    <tr style=\"text-align: right;\">\n",
       "      <th></th>\n",
       "      <th>product_group</th>\n",
       "      <th>country</th>\n",
       "      <th>year</th>\n",
       "      <th>revenue</th>\n",
       "    </tr>\n",
       "  </thead>\n",
       "  <tbody>\n",
       "    <tr>\n",
       "      <td>0</td>\n",
       "      <td>automobile</td>\n",
       "      <td>BR</td>\n",
       "      <td>2012</td>\n",
       "      <td>206937.3265</td>\n",
       "    </tr>\n",
       "    <tr>\n",
       "      <td>1</td>\n",
       "      <td>automobile</td>\n",
       "      <td>BR</td>\n",
       "      <td>2013</td>\n",
       "      <td>199547.3868</td>\n",
       "    </tr>\n",
       "    <tr>\n",
       "      <td>2</td>\n",
       "      <td>automobile</td>\n",
       "      <td>CA</td>\n",
       "      <td>2013</td>\n",
       "      <td>197965.0168</td>\n",
       "    </tr>\n",
       "    <tr>\n",
       "      <td>3</td>\n",
       "      <td>automobile</td>\n",
       "      <td>CA</td>\n",
       "      <td>2012</td>\n",
       "      <td>197552.3251</td>\n",
       "    </tr>\n",
       "    <tr>\n",
       "      <td>4</td>\n",
       "      <td>automobile</td>\n",
       "      <td>CL</td>\n",
       "      <td>2013</td>\n",
       "      <td>197857.0241</td>\n",
       "    </tr>\n",
       "    <tr>\n",
       "      <td>...</td>\n",
       "      <td>...</td>\n",
       "      <td>...</td>\n",
       "      <td>...</td>\n",
       "      <td>...</td>\n",
       "    </tr>\n",
       "    <tr>\n",
       "      <td>175</td>\n",
       "      <td>office supplies</td>\n",
       "      <td>US</td>\n",
       "      <td>2014</td>\n",
       "      <td>207829.1326</td>\n",
       "    </tr>\n",
       "    <tr>\n",
       "      <td>176</td>\n",
       "      <td>office supplies</td>\n",
       "      <td>US</td>\n",
       "      <td>2014</td>\n",
       "      <td>198895.8293</td>\n",
       "    </tr>\n",
       "    <tr>\n",
       "      <td>177</td>\n",
       "      <td>office supplies</td>\n",
       "      <td>ZH</td>\n",
       "      <td>2012</td>\n",
       "      <td>189211.7817</td>\n",
       "    </tr>\n",
       "    <tr>\n",
       "      <td>178</td>\n",
       "      <td>office supplies</td>\n",
       "      <td>ZA</td>\n",
       "      <td>2014</td>\n",
       "      <td>214117.7205</td>\n",
       "    </tr>\n",
       "    <tr>\n",
       "      <td>179</td>\n",
       "      <td>office supplies</td>\n",
       "      <td>ZH</td>\n",
       "      <td>2014</td>\n",
       "      <td>199955.8500</td>\n",
       "    </tr>\n",
       "  </tbody>\n",
       "</table>\n",
       "<p>180 rows × 4 columns</p>\n",
       "</div>"
      ],
      "text/plain": [
       "       product_group country  year      revenue\n",
       "0         automobile      BR  2012  206937.3265\n",
       "1         automobile      BR  2013  199547.3868\n",
       "2         automobile      CA  2013  197965.0168\n",
       "3         automobile      CA  2012  197552.3251\n",
       "4         automobile      CL  2013  197857.0241\n",
       "..               ...     ...   ...          ...\n",
       "175  office supplies      US  2014  207829.1326\n",
       "176  office supplies      US  2014  198895.8293\n",
       "177  office supplies      ZH  2012  189211.7817\n",
       "178  office supplies      ZA  2014  214117.7205\n",
       "179  office supplies      ZH  2014  199955.8500\n",
       "\n",
       "[180 rows x 4 columns]"
      ]
     },
     "execution_count": 3,
     "metadata": {},
     "output_type": "execute_result"
    }
   ],
   "source": [
    "df"
   ]
  },
  {
   "cell_type": "markdown",
   "metadata": {},
   "source": [
    "# Looking at only the United States, France, and Spain, what was the median revenue in 2013? (Taking the three countries together in aggregate) "
   ]
  },
  {
   "cell_type": "code",
   "execution_count": 4,
   "metadata": {
    "ExecuteTime": {
     "end_time": "2021-02-06T20:24:27.604739Z",
     "start_time": "2021-02-06T20:24:27.528741Z"
    }
   },
   "outputs": [
    {
     "data": {
      "text/html": [
       "<div>\n",
       "<style scoped>\n",
       "    .dataframe tbody tr th:only-of-type {\n",
       "        vertical-align: middle;\n",
       "    }\n",
       "\n",
       "    .dataframe tbody tr th {\n",
       "        vertical-align: top;\n",
       "    }\n",
       "\n",
       "    .dataframe thead th {\n",
       "        text-align: right;\n",
       "    }\n",
       "</style>\n",
       "<table border=\"1\" class=\"dataframe\">\n",
       "  <thead>\n",
       "    <tr style=\"text-align: right;\">\n",
       "      <th></th>\n",
       "      <th>product_group</th>\n",
       "      <th>country</th>\n",
       "      <th>year</th>\n",
       "      <th>revenue</th>\n",
       "    </tr>\n",
       "  </thead>\n",
       "  <tbody>\n",
       "    <tr>\n",
       "      <td>7</td>\n",
       "      <td>automobile</td>\n",
       "      <td>FR</td>\n",
       "      <td>2013</td>\n",
       "      <td>190734.681500</td>\n",
       "    </tr>\n",
       "    <tr>\n",
       "      <td>8</td>\n",
       "      <td>automobile</td>\n",
       "      <td>FR</td>\n",
       "      <td>2013</td>\n",
       "      <td>197659.861900</td>\n",
       "    </tr>\n",
       "    <tr>\n",
       "      <td>10</td>\n",
       "      <td>automobile</td>\n",
       "      <td>FR</td>\n",
       "      <td>2013</td>\n",
       "      <td>197206.029500</td>\n",
       "    </tr>\n",
       "    <tr>\n",
       "      <td>37</td>\n",
       "      <td>clothing</td>\n",
       "      <td>FR</td>\n",
       "      <td>2013</td>\n",
       "      <td>1873.328854</td>\n",
       "    </tr>\n",
       "    <tr>\n",
       "      <td>38</td>\n",
       "      <td>clothing</td>\n",
       "      <td>FR</td>\n",
       "      <td>2013</td>\n",
       "      <td>3346.136628</td>\n",
       "    </tr>\n",
       "    <tr>\n",
       "      <td>40</td>\n",
       "      <td>clothing</td>\n",
       "      <td>FR</td>\n",
       "      <td>2013</td>\n",
       "      <td>1241.063181</td>\n",
       "    </tr>\n",
       "    <tr>\n",
       "      <td>67</td>\n",
       "      <td>electronics</td>\n",
       "      <td>FR</td>\n",
       "      <td>2013</td>\n",
       "      <td>20352.772350</td>\n",
       "    </tr>\n",
       "    <tr>\n",
       "      <td>68</td>\n",
       "      <td>electronics</td>\n",
       "      <td>FR</td>\n",
       "      <td>2013</td>\n",
       "      <td>19615.283430</td>\n",
       "    </tr>\n",
       "    <tr>\n",
       "      <td>70</td>\n",
       "      <td>electronics</td>\n",
       "      <td>FR</td>\n",
       "      <td>2013</td>\n",
       "      <td>19475.636710</td>\n",
       "    </tr>\n",
       "    <tr>\n",
       "      <td>97</td>\n",
       "      <td>furniture</td>\n",
       "      <td>FR</td>\n",
       "      <td>2013</td>\n",
       "      <td>21392.753660</td>\n",
       "    </tr>\n",
       "    <tr>\n",
       "      <td>98</td>\n",
       "      <td>furniture</td>\n",
       "      <td>FR</td>\n",
       "      <td>2013</td>\n",
       "      <td>19032.585920</td>\n",
       "    </tr>\n",
       "    <tr>\n",
       "      <td>100</td>\n",
       "      <td>furniture</td>\n",
       "      <td>FR</td>\n",
       "      <td>2013</td>\n",
       "      <td>20349.478670</td>\n",
       "    </tr>\n",
       "    <tr>\n",
       "      <td>127</td>\n",
       "      <td>groceries</td>\n",
       "      <td>FR</td>\n",
       "      <td>2013</td>\n",
       "      <td>238991.336700</td>\n",
       "    </tr>\n",
       "    <tr>\n",
       "      <td>128</td>\n",
       "      <td>groceries</td>\n",
       "      <td>FR</td>\n",
       "      <td>2013</td>\n",
       "      <td>223017.380300</td>\n",
       "    </tr>\n",
       "    <tr>\n",
       "      <td>130</td>\n",
       "      <td>groceries</td>\n",
       "      <td>FR</td>\n",
       "      <td>2013</td>\n",
       "      <td>189053.434400</td>\n",
       "    </tr>\n",
       "    <tr>\n",
       "      <td>157</td>\n",
       "      <td>office supplies</td>\n",
       "      <td>FR</td>\n",
       "      <td>2013</td>\n",
       "      <td>201274.506400</td>\n",
       "    </tr>\n",
       "    <tr>\n",
       "      <td>158</td>\n",
       "      <td>office supplies</td>\n",
       "      <td>FR</td>\n",
       "      <td>2013</td>\n",
       "      <td>209669.100700</td>\n",
       "    </tr>\n",
       "    <tr>\n",
       "      <td>160</td>\n",
       "      <td>office supplies</td>\n",
       "      <td>FR</td>\n",
       "      <td>2013</td>\n",
       "      <td>206302.306200</td>\n",
       "    </tr>\n",
       "  </tbody>\n",
       "</table>\n",
       "</div>"
      ],
      "text/plain": [
       "       product_group country  year        revenue\n",
       "7         automobile      FR  2013  190734.681500\n",
       "8         automobile      FR  2013  197659.861900\n",
       "10        automobile      FR  2013  197206.029500\n",
       "37          clothing      FR  2013    1873.328854\n",
       "38          clothing      FR  2013    3346.136628\n",
       "40          clothing      FR  2013    1241.063181\n",
       "67       electronics      FR  2013   20352.772350\n",
       "68       electronics      FR  2013   19615.283430\n",
       "70       electronics      FR  2013   19475.636710\n",
       "97         furniture      FR  2013   21392.753660\n",
       "98         furniture      FR  2013   19032.585920\n",
       "100        furniture      FR  2013   20349.478670\n",
       "127        groceries      FR  2013  238991.336700\n",
       "128        groceries      FR  2013  223017.380300\n",
       "130        groceries      FR  2013  189053.434400\n",
       "157  office supplies      FR  2013  201274.506400\n",
       "158  office supplies      FR  2013  209669.100700\n",
       "160  office supplies      FR  2013  206302.306200"
      ]
     },
     "execution_count": 4,
     "metadata": {},
     "output_type": "execute_result"
    }
   ],
   "source": [
    "df.query(\"country == ['US', 'FR','ES'] & year == '2013'\")"
   ]
  },
  {
   "cell_type": "code",
   "execution_count": 5,
   "metadata": {
    "ExecuteTime": {
     "end_time": "2021-02-06T20:24:27.636740Z",
     "start_time": "2021-02-06T20:24:27.606740Z"
    },
    "scrolled": true
   },
   "outputs": [
    {
     "data": {
      "text/plain": [
       "year         2013.00000\n",
       "revenue    105223.09403\n",
       "dtype: float64"
      ]
     },
     "execution_count": 5,
     "metadata": {},
     "output_type": "execute_result"
    }
   ],
   "source": [
    "df.query(\"country == ['US', 'FR','ES'] & year == '2013'\").median()"
   ]
  },
  {
   "cell_type": "code",
   "execution_count": 6,
   "metadata": {
    "ExecuteTime": {
     "end_time": "2021-02-06T20:24:27.652755Z",
     "start_time": "2021-02-06T20:24:27.638739Z"
    }
   },
   "outputs": [
    {
     "name": "stdout",
     "output_type": "stream",
     "text": [
      "The median revenue in 2013, looking at only the countries United States, France, and Spain is 105223.09403\n"
     ]
    }
   ],
   "source": [
    "# Final answer \n",
    "rev_2013 = df.query(\"country == ['US', 'FR','ES'] & year == '2013'\").revenue.median()\n",
    "print(f'The median revenue in 2013, looking at only the countries United States, France, and Spain is {rev_2013}')"
   ]
  },
  {
   "cell_type": "markdown",
   "metadata": {},
   "source": [
    " "
   ]
  },
  {
   "cell_type": "markdown",
   "metadata": {},
   "source": [
    "# Was it more or less than 2012?"
   ]
  },
  {
   "cell_type": "code",
   "execution_count": 7,
   "metadata": {
    "ExecuteTime": {
     "end_time": "2021-02-06T20:24:27.684740Z",
     "start_time": "2021-02-06T20:24:27.656739Z"
    }
   },
   "outputs": [
    {
     "data": {
      "text/plain": [
       "84150.48882"
      ]
     },
     "execution_count": 7,
     "metadata": {},
     "output_type": "execute_result"
    }
   ],
   "source": [
    "rev_2012 = df.query(\"country == ['US', 'FR','ES'] & year == '2012'\").revenue.median()\n",
    "rev_2012"
   ]
  },
  {
   "cell_type": "code",
   "execution_count": 8,
   "metadata": {
    "ExecuteTime": {
     "end_time": "2021-02-06T20:24:27.700740Z",
     "start_time": "2021-02-06T20:24:27.687739Z"
    }
   },
   "outputs": [
    {
     "name": "stdout",
     "output_type": "stream",
     "text": [
      "Revenue in 2013 was more then in 2012 by $21072.61\n"
     ]
    }
   ],
   "source": [
    "# Final answer \n",
    "if rev_2013 > rev_2012:\n",
    "    print(f'Revenue in 2013 was more then in 2012 by ${round(rev_2013 - rev_2012, 2)}')\n",
    "elif rev_2013 < rev_2012:\n",
    "    print(f'Revenue in 2012 was more then in 2013 by ${round(rev_2012 - rev_2013, 2)}')\n",
    "else:\n",
    "    print(f'Revenue in 2013 and in 2013 were the same')\n",
    "    \n"
   ]
  },
  {
   "cell_type": "markdown",
   "metadata": {},
   "source": [
    "# What drove that difference? "
   ]
  },
  {
   "cell_type": "code",
   "execution_count": 9,
   "metadata": {
    "ExecuteTime": {
     "end_time": "2021-02-06T20:24:27.732741Z",
     "start_time": "2021-02-06T20:24:27.703741Z"
    }
   },
   "outputs": [
    {
     "data": {
      "text/plain": [
       "1621.184500000003"
      ]
     },
     "execution_count": 9,
     "metadata": {},
     "output_type": "execute_result"
    }
   ],
   "source": [
    "# Test\n",
    "rev_auto_2012 = df.query(\"country == ['US', 'FR','ES'] & product_group == 'automobile' & year == '2012'\").revenue.median()\n",
    "rev_auto_2013 = df.query(\"country == ['US', 'FR','ES'] & product_group == 'automobile' & year == '2013'\").revenue.median()\n",
    "rev_auto_2013 - rev_auto_2012\n"
   ]
  },
  {
   "cell_type": "code",
   "execution_count": 10,
   "metadata": {
    "ExecuteTime": {
     "end_time": "2021-02-06T20:24:27.763739Z",
     "start_time": "2021-02-06T20:24:27.735740Z"
    }
   },
   "outputs": [],
   "source": [
    "rev_USFRES_group_2012 = df.query(\"country == ['US', 'FR','ES'] & year == '2012'\").groupby('product_group').revenue.median()\n",
    "rev_USFRES_group_2013 = df.query(\"country == ['US', 'FR','ES'] & year == '2013'\").groupby('product_group').revenue.median()\n",
    "rev_USFRES_diff = rev_USFRES_group_2013 - rev_USFRES_group_2012"
   ]
  },
  {
   "cell_type": "code",
   "execution_count": 11,
   "metadata": {
    "ExecuteTime": {
     "end_time": "2021-02-06T20:24:27.778747Z",
     "start_time": "2021-02-06T20:24:27.766740Z"
    }
   },
   "outputs": [
    {
     "data": {
      "text/plain": [
       "product_group\n",
       "automobile          1621.184500\n",
       "clothing             791.623474\n",
       "electronics          -27.997820\n",
       "furniture            549.860520\n",
       "groceries          28656.665900\n",
       "office supplies     2006.463200\n",
       "Name: revenue, dtype: float64"
      ]
     },
     "execution_count": 11,
     "metadata": {},
     "output_type": "execute_result"
    }
   ],
   "source": [
    "rev_USFRES_diff"
   ]
  },
  {
   "cell_type": "code",
   "execution_count": 12,
   "metadata": {
    "ExecuteTime": {
     "end_time": "2021-02-06T20:24:27.794739Z",
     "start_time": "2021-02-06T20:24:27.782740Z"
    }
   },
   "outputs": [
    {
     "data": {
      "text/plain": [
       "28656.665899999993"
      ]
     },
     "execution_count": 12,
     "metadata": {},
     "output_type": "execute_result"
    }
   ],
   "source": [
    "rev_USFRES_diff.max()"
   ]
  },
  {
   "cell_type": "markdown",
   "metadata": {},
   "source": [
    "Looks like the product group \"Groceries\" was the major contributing factor in the difference in median revenue between 2013 and 2012"
   ]
  },
  {
   "cell_type": "markdown",
   "metadata": {},
   "source": [
    "# Looking now at all countries, which product group had the biggest decline in median revenue from 2013 to 2014, by dollar amount? "
   ]
  },
  {
   "cell_type": "code",
   "execution_count": 13,
   "metadata": {
    "ExecuteTime": {
     "end_time": "2021-02-06T20:24:27.824739Z",
     "start_time": "2021-02-06T20:24:27.796740Z"
    },
    "scrolled": true
   },
   "outputs": [
    {
     "data": {
      "text/plain": [
       "product_group\n",
       "automobile          1536.454400\n",
       "clothing               8.282795\n",
       "electronics         -221.344480\n",
       "furniture            145.453235\n",
       "groceries         -13617.571950\n",
       "office supplies    -2027.477350\n",
       "Name: revenue, dtype: float64"
      ]
     },
     "execution_count": 13,
     "metadata": {},
     "output_type": "execute_result"
    }
   ],
   "source": [
    "rev_group_2014 = df.query(\"year == '2014'\").groupby('product_group').revenue.median()\n",
    "rev_group_2013 = df.query(\"year == '2013'\").groupby('product_group').revenue.median()\n",
    "rev_diff = rev_group_2014 - rev_group_2013\n",
    "rev_diff"
   ]
  },
  {
   "cell_type": "code",
   "execution_count": 14,
   "metadata": {
    "ExecuteTime": {
     "end_time": "2021-02-06T20:24:27.839739Z",
     "start_time": "2021-02-06T20:24:27.827739Z"
    }
   },
   "outputs": [
    {
     "data": {
      "text/plain": [
       "-13617.571949999983"
      ]
     },
     "execution_count": 14,
     "metadata": {},
     "output_type": "execute_result"
    }
   ],
   "source": [
    "rev_diff.min()"
   ]
  },
  {
   "cell_type": "markdown",
   "metadata": {},
   "source": [
    "Looks like the product group \"Groceries\" had the largest decline in median revenue between 2014 and 2013"
   ]
  },
  {
   "cell_type": "markdown",
   "metadata": {},
   "source": [
    "# Looking now at all countries, which product group had the biggest decline in median revenue from 2013 to 2014, by percent change?"
   ]
  },
  {
   "cell_type": "code",
   "execution_count": 16,
   "metadata": {
    "ExecuteTime": {
     "end_time": "2021-02-06T20:24:44.567295Z",
     "start_time": "2021-02-06T20:24:44.555053Z"
    },
    "scrolled": true
   },
   "outputs": [
    {
     "data": {
      "text/plain": [
       "product_group\n",
       "automobile               NaN\n",
       "clothing           -0.994609\n",
       "electronics       -27.723404\n",
       "furniture          -1.657135\n",
       "groceries         -94.621651\n",
       "office supplies    -0.851113\n",
       "Name: revenue, dtype: float64"
      ]
     },
     "execution_count": 16,
     "metadata": {},
     "output_type": "execute_result"
    }
   ],
   "source": [
    "rev_diff.pct_change()"
   ]
  },
  {
   "cell_type": "code",
   "execution_count": 17,
   "metadata": {
    "ExecuteTime": {
     "end_time": "2021-02-06T20:26:11.195698Z",
     "start_time": "2021-02-06T20:26:11.184750Z"
    }
   },
   "outputs": [
    {
     "data": {
      "text/plain": [
       "-94.62165062880797"
      ]
     },
     "execution_count": 17,
     "metadata": {},
     "output_type": "execute_result"
    }
   ],
   "source": [
    "rev_diff.pct_change().min()"
   ]
  },
  {
   "cell_type": "markdown",
   "metadata": {},
   "source": [
    "Looks like the product group \"Groceries\" had the largest decline, by percent change, in median revenue between 2014 and 2013"
   ]
  },
  {
   "cell_type": "code",
   "execution_count": null,
   "metadata": {},
   "outputs": [],
   "source": []
  },
  {
   "cell_type": "code",
   "execution_count": 28,
   "metadata": {
    "ExecuteTime": {
     "end_time": "2021-02-07T05:21:27.575344Z",
     "start_time": "2021-02-07T05:21:27.535368Z"
    }
   },
   "outputs": [
    {
     "data": {
      "text/html": [
       "<div>\n",
       "<style scoped>\n",
       "    .dataframe tbody tr th:only-of-type {\n",
       "        vertical-align: middle;\n",
       "    }\n",
       "\n",
       "    .dataframe tbody tr th {\n",
       "        vertical-align: top;\n",
       "    }\n",
       "\n",
       "    .dataframe thead th {\n",
       "        text-align: right;\n",
       "    }\n",
       "</style>\n",
       "<table border=\"1\" class=\"dataframe\">\n",
       "  <thead>\n",
       "    <tr style=\"text-align: right;\">\n",
       "      <th></th>\n",
       "      <th></th>\n",
       "      <th>revenue</th>\n",
       "    </tr>\n",
       "    <tr>\n",
       "      <th>year</th>\n",
       "      <th>product_group</th>\n",
       "      <th></th>\n",
       "    </tr>\n",
       "  </thead>\n",
       "  <tbody>\n",
       "    <tr>\n",
       "      <td rowspan=\"6\" valign=\"top\">2012</td>\n",
       "      <td>automobile</td>\n",
       "      <td>199204.047400</td>\n",
       "    </tr>\n",
       "    <tr>\n",
       "      <td>clothing</td>\n",
       "      <td>1897.068511</td>\n",
       "    </tr>\n",
       "    <tr>\n",
       "      <td>electronics</td>\n",
       "      <td>19769.343690</td>\n",
       "    </tr>\n",
       "    <tr>\n",
       "      <td>furniture</td>\n",
       "      <td>20175.898725</td>\n",
       "    </tr>\n",
       "    <tr>\n",
       "      <td>groceries</td>\n",
       "      <td>193936.293450</td>\n",
       "    </tr>\n",
       "    <tr>\n",
       "      <td>office supplies</td>\n",
       "      <td>200286.673500</td>\n",
       "    </tr>\n",
       "    <tr>\n",
       "      <td rowspan=\"6\" valign=\"top\">2013</td>\n",
       "      <td>automobile</td>\n",
       "      <td>197758.443000</td>\n",
       "    </tr>\n",
       "    <tr>\n",
       "      <td>clothing</td>\n",
       "      <td>1887.295655</td>\n",
       "    </tr>\n",
       "    <tr>\n",
       "      <td>electronics</td>\n",
       "      <td>19973.113935</td>\n",
       "    </tr>\n",
       "    <tr>\n",
       "      <td>furniture</td>\n",
       "      <td>20037.202215</td>\n",
       "    </tr>\n",
       "    <tr>\n",
       "      <td>groceries</td>\n",
       "      <td>218415.446700</td>\n",
       "    </tr>\n",
       "    <tr>\n",
       "      <td>office supplies</td>\n",
       "      <td>201453.317000</td>\n",
       "    </tr>\n",
       "    <tr>\n",
       "      <td rowspan=\"6\" valign=\"top\">2014</td>\n",
       "      <td>automobile</td>\n",
       "      <td>199294.897400</td>\n",
       "    </tr>\n",
       "    <tr>\n",
       "      <td>clothing</td>\n",
       "      <td>1895.578450</td>\n",
       "    </tr>\n",
       "    <tr>\n",
       "      <td>electronics</td>\n",
       "      <td>19751.769455</td>\n",
       "    </tr>\n",
       "    <tr>\n",
       "      <td>furniture</td>\n",
       "      <td>20182.655450</td>\n",
       "    </tr>\n",
       "    <tr>\n",
       "      <td>groceries</td>\n",
       "      <td>204797.874750</td>\n",
       "    </tr>\n",
       "    <tr>\n",
       "      <td>office supplies</td>\n",
       "      <td>199425.839650</td>\n",
       "    </tr>\n",
       "  </tbody>\n",
       "</table>\n",
       "</div>"
      ],
      "text/plain": [
       "                            revenue\n",
       "year product_group                 \n",
       "2012 automobile       199204.047400\n",
       "     clothing           1897.068511\n",
       "     electronics       19769.343690\n",
       "     furniture         20175.898725\n",
       "     groceries        193936.293450\n",
       "     office supplies  200286.673500\n",
       "2013 automobile       197758.443000\n",
       "     clothing           1887.295655\n",
       "     electronics       19973.113935\n",
       "     furniture         20037.202215\n",
       "     groceries        218415.446700\n",
       "     office supplies  201453.317000\n",
       "2014 automobile       199294.897400\n",
       "     clothing           1895.578450\n",
       "     electronics       19751.769455\n",
       "     furniture         20182.655450\n",
       "     groceries        204797.874750\n",
       "     office supplies  199425.839650"
      ]
     },
     "execution_count": 28,
     "metadata": {},
     "output_type": "execute_result"
    }
   ],
   "source": [
    "# Pivot table to show median revenue by year and product_group\n",
    "df.pivot_table(index=['year','product_group'],values=['revenue'],aggfunc='median')"
   ]
  },
  {
   "cell_type": "code",
   "execution_count": null,
   "metadata": {},
   "outputs": [],
   "source": []
  }
 ],
 "metadata": {
  "kernelspec": {
   "display_name": "Python 3",
   "language": "python",
   "name": "python3"
  },
  "language_info": {
   "codemirror_mode": {
    "name": "ipython",
    "version": 3
   },
   "file_extension": ".py",
   "mimetype": "text/x-python",
   "name": "python",
   "nbconvert_exporter": "python",
   "pygments_lexer": "ipython3",
   "version": "3.7.4"
  },
  "toc": {
   "base_numbering": 1,
   "nav_menu": {},
   "number_sections": true,
   "sideBar": true,
   "skip_h1_title": false,
   "title_cell": "Table of Contents",
   "title_sidebar": "Contents",
   "toc_cell": false,
   "toc_position": {},
   "toc_section_display": true,
   "toc_window_display": false
  }
 },
 "nbformat": 4,
 "nbformat_minor": 2
}
