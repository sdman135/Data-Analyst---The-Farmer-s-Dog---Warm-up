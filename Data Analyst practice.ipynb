{
 "cells": [
  {
   "cell_type": "code",
   "execution_count": 1,
   "metadata": {
    "ExecuteTime": {
     "end_time": "2021-01-30T02:21:19.330890Z",
     "start_time": "2021-01-30T02:21:18.233810Z"
    }
   },
   "outputs": [],
   "source": [
    "import pandas as pd\n"
   ]
  },
  {
   "cell_type": "code",
   "execution_count": 2,
   "metadata": {
    "ExecuteTime": {
     "end_time": "2021-01-30T02:21:19.346811Z",
     "start_time": "2021-01-30T02:21:19.332811Z"
    }
   },
   "outputs": [],
   "source": [
    "df = pd.read_csv('general_store_sample_data.csv')"
   ]
  },
  {
   "cell_type": "code",
   "execution_count": 14,
   "metadata": {
    "ExecuteTime": {
     "end_time": "2021-01-30T02:29:56.074793Z",
     "start_time": "2021-01-30T02:29:56.054791Z"
    }
   },
   "outputs": [
    {
     "data": {
      "text/html": [
       "<div>\n",
       "<style scoped>\n",
       "    .dataframe tbody tr th:only-of-type {\n",
       "        vertical-align: middle;\n",
       "    }\n",
       "\n",
       "    .dataframe tbody tr th {\n",
       "        vertical-align: top;\n",
       "    }\n",
       "\n",
       "    .dataframe thead th {\n",
       "        text-align: right;\n",
       "    }\n",
       "</style>\n",
       "<table border=\"1\" class=\"dataframe\">\n",
       "  <thead>\n",
       "    <tr style=\"text-align: right;\">\n",
       "      <th></th>\n",
       "      <th>product_group</th>\n",
       "      <th>country</th>\n",
       "      <th>year</th>\n",
       "      <th>revenue</th>\n",
       "    </tr>\n",
       "  </thead>\n",
       "  <tbody>\n",
       "    <tr>\n",
       "      <td>0</td>\n",
       "      <td>automobile</td>\n",
       "      <td>BR</td>\n",
       "      <td>2012</td>\n",
       "      <td>206937.3265</td>\n",
       "    </tr>\n",
       "    <tr>\n",
       "      <td>1</td>\n",
       "      <td>automobile</td>\n",
       "      <td>BR</td>\n",
       "      <td>2013</td>\n",
       "      <td>199547.3868</td>\n",
       "    </tr>\n",
       "    <tr>\n",
       "      <td>2</td>\n",
       "      <td>automobile</td>\n",
       "      <td>CA</td>\n",
       "      <td>2013</td>\n",
       "      <td>197965.0168</td>\n",
       "    </tr>\n",
       "    <tr>\n",
       "      <td>3</td>\n",
       "      <td>automobile</td>\n",
       "      <td>CA</td>\n",
       "      <td>2012</td>\n",
       "      <td>197552.3251</td>\n",
       "    </tr>\n",
       "    <tr>\n",
       "      <td>4</td>\n",
       "      <td>automobile</td>\n",
       "      <td>CL</td>\n",
       "      <td>2013</td>\n",
       "      <td>197857.0241</td>\n",
       "    </tr>\n",
       "    <tr>\n",
       "      <td>...</td>\n",
       "      <td>...</td>\n",
       "      <td>...</td>\n",
       "      <td>...</td>\n",
       "      <td>...</td>\n",
       "    </tr>\n",
       "    <tr>\n",
       "      <td>175</td>\n",
       "      <td>office supplies</td>\n",
       "      <td>US</td>\n",
       "      <td>2014</td>\n",
       "      <td>207829.1326</td>\n",
       "    </tr>\n",
       "    <tr>\n",
       "      <td>176</td>\n",
       "      <td>office supplies</td>\n",
       "      <td>US</td>\n",
       "      <td>2014</td>\n",
       "      <td>198895.8293</td>\n",
       "    </tr>\n",
       "    <tr>\n",
       "      <td>177</td>\n",
       "      <td>office supplies</td>\n",
       "      <td>ZH</td>\n",
       "      <td>2012</td>\n",
       "      <td>189211.7817</td>\n",
       "    </tr>\n",
       "    <tr>\n",
       "      <td>178</td>\n",
       "      <td>office supplies</td>\n",
       "      <td>ZA</td>\n",
       "      <td>2014</td>\n",
       "      <td>214117.7205</td>\n",
       "    </tr>\n",
       "    <tr>\n",
       "      <td>179</td>\n",
       "      <td>office supplies</td>\n",
       "      <td>ZH</td>\n",
       "      <td>2014</td>\n",
       "      <td>199955.8500</td>\n",
       "    </tr>\n",
       "  </tbody>\n",
       "</table>\n",
       "<p>180 rows × 4 columns</p>\n",
       "</div>"
      ],
      "text/plain": [
       "       product_group country  year      revenue\n",
       "0         automobile      BR  2012  206937.3265\n",
       "1         automobile      BR  2013  199547.3868\n",
       "2         automobile      CA  2013  197965.0168\n",
       "3         automobile      CA  2012  197552.3251\n",
       "4         automobile      CL  2013  197857.0241\n",
       "..               ...     ...   ...          ...\n",
       "175  office supplies      US  2014  207829.1326\n",
       "176  office supplies      US  2014  198895.8293\n",
       "177  office supplies      ZH  2012  189211.7817\n",
       "178  office supplies      ZA  2014  214117.7205\n",
       "179  office supplies      ZH  2014  199955.8500\n",
       "\n",
       "[180 rows x 4 columns]"
      ]
     },
     "execution_count": 14,
     "metadata": {},
     "output_type": "execute_result"
    }
   ],
   "source": [
    "df"
   ]
  },
  {
   "cell_type": "code",
   "execution_count": 13,
   "metadata": {
    "ExecuteTime": {
     "end_time": "2021-01-30T02:29:52.352741Z",
     "start_time": "2021-01-30T02:29:52.336687Z"
    }
   },
   "outputs": [],
   "source": [
    "data"
   ]
  },
  {
   "cell_type": "markdown",
   "metadata": {},
   "source": [
    "Looking at only the United States, France, and Spain, what was the median revenue in 2013? (Taking the three countries together in aggregate) "
   ]
  },
  {
   "cell_type": "code",
   "execution_count": null,
   "metadata": {},
   "outputs": [],
   "source": []
  },
  {
   "cell_type": "markdown",
   "metadata": {},
   "source": [
    "Was it more or less than 2012?"
   ]
  },
  {
   "cell_type": "code",
   "execution_count": null,
   "metadata": {},
   "outputs": [],
   "source": []
  },
  {
   "cell_type": "markdown",
   "metadata": {},
   "source": [
    "What drove that difference? "
   ]
  },
  {
   "cell_type": "code",
   "execution_count": null,
   "metadata": {},
   "outputs": [],
   "source": []
  },
  {
   "cell_type": "markdown",
   "metadata": {},
   "source": [
    "Looking now at all countries, which product group had the biggest decline in median revenue from 2013 to 2014, by dollar amount? "
   ]
  },
  {
   "cell_type": "code",
   "execution_count": null,
   "metadata": {},
   "outputs": [],
   "source": []
  },
  {
   "cell_type": "markdown",
   "metadata": {},
   "source": [
    "Looking now at all countries, which product group had the biggest decline in median revenue from 2013 to 2014, by percent change?"
   ]
  },
  {
   "cell_type": "code",
   "execution_count": null,
   "metadata": {},
   "outputs": [],
   "source": []
  },
  {
   "cell_type": "code",
   "execution_count": null,
   "metadata": {},
   "outputs": [],
   "source": []
  },
  {
   "cell_type": "code",
   "execution_count": null,
   "metadata": {},
   "outputs": [],
   "source": []
  }
 ],
 "metadata": {
  "kernelspec": {
   "display_name": "Python 3",
   "language": "python",
   "name": "python3"
  },
  "language_info": {
   "codemirror_mode": {
    "name": "ipython",
    "version": 3
   },
   "file_extension": ".py",
   "mimetype": "text/x-python",
   "name": "python",
   "nbconvert_exporter": "python",
   "pygments_lexer": "ipython3",
   "version": "3.7.4"
  },
  "toc": {
   "base_numbering": 1,
   "nav_menu": {},
   "number_sections": true,
   "sideBar": true,
   "skip_h1_title": false,
   "title_cell": "Table of Contents",
   "title_sidebar": "Contents",
   "toc_cell": false,
   "toc_position": {},
   "toc_section_display": true,
   "toc_window_display": false
  }
 },
 "nbformat": 4,
 "nbformat_minor": 2
}
