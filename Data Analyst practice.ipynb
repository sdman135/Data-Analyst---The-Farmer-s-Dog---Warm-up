{
 "cells": [
  {
   "cell_type": "code",
   "execution_count": 1,
   "metadata": {
    "ExecuteTime": {
     "end_time": "2021-02-01T01:45:20.601736Z",
     "start_time": "2021-02-01T01:45:19.014709Z"
    }
   },
   "outputs": [],
   "source": [
    "import pandas as pd\n"
   ]
  },
  {
   "cell_type": "code",
   "execution_count": 2,
   "metadata": {
    "ExecuteTime": {
     "end_time": "2021-02-01T01:45:20.632710Z",
     "start_time": "2021-02-01T01:45:20.603709Z"
    }
   },
   "outputs": [],
   "source": [
    "df = pd.read_csv('general_store_sample_data.csv')"
   ]
  },
  {
   "cell_type": "code",
   "execution_count": 3,
   "metadata": {
    "ExecuteTime": {
     "end_time": "2021-02-01T01:45:20.679725Z",
     "start_time": "2021-02-01T01:45:20.636710Z"
    }
   },
   "outputs": [
    {
     "data": {
      "text/html": [
       "<div>\n",
       "<style scoped>\n",
       "    .dataframe tbody tr th:only-of-type {\n",
       "        vertical-align: middle;\n",
       "    }\n",
       "\n",
       "    .dataframe tbody tr th {\n",
       "        vertical-align: top;\n",
       "    }\n",
       "\n",
       "    .dataframe thead th {\n",
       "        text-align: right;\n",
       "    }\n",
       "</style>\n",
       "<table border=\"1\" class=\"dataframe\">\n",
       "  <thead>\n",
       "    <tr style=\"text-align: right;\">\n",
       "      <th></th>\n",
       "      <th>product_group</th>\n",
       "      <th>country</th>\n",
       "      <th>year</th>\n",
       "      <th>revenue</th>\n",
       "    </tr>\n",
       "  </thead>\n",
       "  <tbody>\n",
       "    <tr>\n",
       "      <td>0</td>\n",
       "      <td>automobile</td>\n",
       "      <td>BR</td>\n",
       "      <td>2012</td>\n",
       "      <td>206937.3265</td>\n",
       "    </tr>\n",
       "    <tr>\n",
       "      <td>1</td>\n",
       "      <td>automobile</td>\n",
       "      <td>BR</td>\n",
       "      <td>2013</td>\n",
       "      <td>199547.3868</td>\n",
       "    </tr>\n",
       "    <tr>\n",
       "      <td>2</td>\n",
       "      <td>automobile</td>\n",
       "      <td>CA</td>\n",
       "      <td>2013</td>\n",
       "      <td>197965.0168</td>\n",
       "    </tr>\n",
       "    <tr>\n",
       "      <td>3</td>\n",
       "      <td>automobile</td>\n",
       "      <td>CA</td>\n",
       "      <td>2012</td>\n",
       "      <td>197552.3251</td>\n",
       "    </tr>\n",
       "    <tr>\n",
       "      <td>4</td>\n",
       "      <td>automobile</td>\n",
       "      <td>CL</td>\n",
       "      <td>2013</td>\n",
       "      <td>197857.0241</td>\n",
       "    </tr>\n",
       "    <tr>\n",
       "      <td>...</td>\n",
       "      <td>...</td>\n",
       "      <td>...</td>\n",
       "      <td>...</td>\n",
       "      <td>...</td>\n",
       "    </tr>\n",
       "    <tr>\n",
       "      <td>175</td>\n",
       "      <td>office supplies</td>\n",
       "      <td>US</td>\n",
       "      <td>2014</td>\n",
       "      <td>207829.1326</td>\n",
       "    </tr>\n",
       "    <tr>\n",
       "      <td>176</td>\n",
       "      <td>office supplies</td>\n",
       "      <td>US</td>\n",
       "      <td>2014</td>\n",
       "      <td>198895.8293</td>\n",
       "    </tr>\n",
       "    <tr>\n",
       "      <td>177</td>\n",
       "      <td>office supplies</td>\n",
       "      <td>ZH</td>\n",
       "      <td>2012</td>\n",
       "      <td>189211.7817</td>\n",
       "    </tr>\n",
       "    <tr>\n",
       "      <td>178</td>\n",
       "      <td>office supplies</td>\n",
       "      <td>ZA</td>\n",
       "      <td>2014</td>\n",
       "      <td>214117.7205</td>\n",
       "    </tr>\n",
       "    <tr>\n",
       "      <td>179</td>\n",
       "      <td>office supplies</td>\n",
       "      <td>ZH</td>\n",
       "      <td>2014</td>\n",
       "      <td>199955.8500</td>\n",
       "    </tr>\n",
       "  </tbody>\n",
       "</table>\n",
       "<p>180 rows × 4 columns</p>\n",
       "</div>"
      ],
      "text/plain": [
       "       product_group country  year      revenue\n",
       "0         automobile      BR  2012  206937.3265\n",
       "1         automobile      BR  2013  199547.3868\n",
       "2         automobile      CA  2013  197965.0168\n",
       "3         automobile      CA  2012  197552.3251\n",
       "4         automobile      CL  2013  197857.0241\n",
       "..               ...     ...   ...          ...\n",
       "175  office supplies      US  2014  207829.1326\n",
       "176  office supplies      US  2014  198895.8293\n",
       "177  office supplies      ZH  2012  189211.7817\n",
       "178  office supplies      ZA  2014  214117.7205\n",
       "179  office supplies      ZH  2014  199955.8500\n",
       "\n",
       "[180 rows x 4 columns]"
      ]
     },
     "execution_count": 3,
     "metadata": {},
     "output_type": "execute_result"
    }
   ],
   "source": [
    "df"
   ]
  },
  {
   "cell_type": "markdown",
   "metadata": {},
   "source": [
    "Looking at only the United States, France, and Spain, what was the median revenue in 2013? (Taking the three countries together in aggregate) "
   ]
  },
  {
   "cell_type": "code",
   "execution_count": 13,
   "metadata": {
    "ExecuteTime": {
     "end_time": "2021-02-01T01:54:54.139581Z",
     "start_time": "2021-02-01T01:54:54.116528Z"
    }
   },
   "outputs": [
    {
     "data": {
      "text/html": [
       "<div>\n",
       "<style scoped>\n",
       "    .dataframe tbody tr th:only-of-type {\n",
       "        vertical-align: middle;\n",
       "    }\n",
       "\n",
       "    .dataframe tbody tr th {\n",
       "        vertical-align: top;\n",
       "    }\n",
       "\n",
       "    .dataframe thead th {\n",
       "        text-align: right;\n",
       "    }\n",
       "</style>\n",
       "<table border=\"1\" class=\"dataframe\">\n",
       "  <thead>\n",
       "    <tr style=\"text-align: right;\">\n",
       "      <th></th>\n",
       "      <th>product_group</th>\n",
       "      <th>country</th>\n",
       "      <th>year</th>\n",
       "      <th>revenue</th>\n",
       "    </tr>\n",
       "  </thead>\n",
       "  <tbody>\n",
       "    <tr>\n",
       "      <td>7</td>\n",
       "      <td>automobile</td>\n",
       "      <td>FR</td>\n",
       "      <td>2013</td>\n",
       "      <td>190734.681500</td>\n",
       "    </tr>\n",
       "    <tr>\n",
       "      <td>8</td>\n",
       "      <td>automobile</td>\n",
       "      <td>FR</td>\n",
       "      <td>2013</td>\n",
       "      <td>197659.861900</td>\n",
       "    </tr>\n",
       "    <tr>\n",
       "      <td>10</td>\n",
       "      <td>automobile</td>\n",
       "      <td>FR</td>\n",
       "      <td>2013</td>\n",
       "      <td>197206.029500</td>\n",
       "    </tr>\n",
       "    <tr>\n",
       "      <td>37</td>\n",
       "      <td>clothing</td>\n",
       "      <td>FR</td>\n",
       "      <td>2013</td>\n",
       "      <td>1873.328854</td>\n",
       "    </tr>\n",
       "    <tr>\n",
       "      <td>38</td>\n",
       "      <td>clothing</td>\n",
       "      <td>FR</td>\n",
       "      <td>2013</td>\n",
       "      <td>3346.136628</td>\n",
       "    </tr>\n",
       "    <tr>\n",
       "      <td>40</td>\n",
       "      <td>clothing</td>\n",
       "      <td>FR</td>\n",
       "      <td>2013</td>\n",
       "      <td>1241.063181</td>\n",
       "    </tr>\n",
       "    <tr>\n",
       "      <td>67</td>\n",
       "      <td>electronics</td>\n",
       "      <td>FR</td>\n",
       "      <td>2013</td>\n",
       "      <td>20352.772350</td>\n",
       "    </tr>\n",
       "    <tr>\n",
       "      <td>68</td>\n",
       "      <td>electronics</td>\n",
       "      <td>FR</td>\n",
       "      <td>2013</td>\n",
       "      <td>19615.283430</td>\n",
       "    </tr>\n",
       "    <tr>\n",
       "      <td>70</td>\n",
       "      <td>electronics</td>\n",
       "      <td>FR</td>\n",
       "      <td>2013</td>\n",
       "      <td>19475.636710</td>\n",
       "    </tr>\n",
       "    <tr>\n",
       "      <td>97</td>\n",
       "      <td>furniture</td>\n",
       "      <td>FR</td>\n",
       "      <td>2013</td>\n",
       "      <td>21392.753660</td>\n",
       "    </tr>\n",
       "    <tr>\n",
       "      <td>98</td>\n",
       "      <td>furniture</td>\n",
       "      <td>FR</td>\n",
       "      <td>2013</td>\n",
       "      <td>19032.585920</td>\n",
       "    </tr>\n",
       "    <tr>\n",
       "      <td>100</td>\n",
       "      <td>furniture</td>\n",
       "      <td>FR</td>\n",
       "      <td>2013</td>\n",
       "      <td>20349.478670</td>\n",
       "    </tr>\n",
       "    <tr>\n",
       "      <td>127</td>\n",
       "      <td>groceries</td>\n",
       "      <td>FR</td>\n",
       "      <td>2013</td>\n",
       "      <td>238991.336700</td>\n",
       "    </tr>\n",
       "    <tr>\n",
       "      <td>128</td>\n",
       "      <td>groceries</td>\n",
       "      <td>FR</td>\n",
       "      <td>2013</td>\n",
       "      <td>223017.380300</td>\n",
       "    </tr>\n",
       "    <tr>\n",
       "      <td>130</td>\n",
       "      <td>groceries</td>\n",
       "      <td>FR</td>\n",
       "      <td>2013</td>\n",
       "      <td>189053.434400</td>\n",
       "    </tr>\n",
       "    <tr>\n",
       "      <td>157</td>\n",
       "      <td>office supplies</td>\n",
       "      <td>FR</td>\n",
       "      <td>2013</td>\n",
       "      <td>201274.506400</td>\n",
       "    </tr>\n",
       "    <tr>\n",
       "      <td>158</td>\n",
       "      <td>office supplies</td>\n",
       "      <td>FR</td>\n",
       "      <td>2013</td>\n",
       "      <td>209669.100700</td>\n",
       "    </tr>\n",
       "    <tr>\n",
       "      <td>160</td>\n",
       "      <td>office supplies</td>\n",
       "      <td>FR</td>\n",
       "      <td>2013</td>\n",
       "      <td>206302.306200</td>\n",
       "    </tr>\n",
       "  </tbody>\n",
       "</table>\n",
       "</div>"
      ],
      "text/plain": [
       "       product_group country  year        revenue\n",
       "7         automobile      FR  2013  190734.681500\n",
       "8         automobile      FR  2013  197659.861900\n",
       "10        automobile      FR  2013  197206.029500\n",
       "37          clothing      FR  2013    1873.328854\n",
       "38          clothing      FR  2013    3346.136628\n",
       "40          clothing      FR  2013    1241.063181\n",
       "67       electronics      FR  2013   20352.772350\n",
       "68       electronics      FR  2013   19615.283430\n",
       "70       electronics      FR  2013   19475.636710\n",
       "97         furniture      FR  2013   21392.753660\n",
       "98         furniture      FR  2013   19032.585920\n",
       "100        furniture      FR  2013   20349.478670\n",
       "127        groceries      FR  2013  238991.336700\n",
       "128        groceries      FR  2013  223017.380300\n",
       "130        groceries      FR  2013  189053.434400\n",
       "157  office supplies      FR  2013  201274.506400\n",
       "158  office supplies      FR  2013  209669.100700\n",
       "160  office supplies      FR  2013  206302.306200"
      ]
     },
     "execution_count": 13,
     "metadata": {},
     "output_type": "execute_result"
    }
   ],
   "source": [
    "df.query(\"country == ['US', 'FR','ES'] & year == '2013'\")"
   ]
  },
  {
   "cell_type": "code",
   "execution_count": 16,
   "metadata": {
    "ExecuteTime": {
     "end_time": "2021-02-01T01:57:01.661601Z",
     "start_time": "2021-02-01T01:57:01.638602Z"
    },
    "scrolled": true
   },
   "outputs": [
    {
     "data": {
      "text/plain": [
       "year         2013.00000\n",
       "revenue    105223.09403\n",
       "dtype: float64"
      ]
     },
     "execution_count": 16,
     "metadata": {},
     "output_type": "execute_result"
    }
   ],
   "source": [
    "df.query(\"country == ['US', 'FR','ES'] & year == '2013'\").median()"
   ]
  },
  {
   "cell_type": "code",
   "execution_count": 19,
   "metadata": {
    "ExecuteTime": {
     "end_time": "2021-02-01T01:58:54.271438Z",
     "start_time": "2021-02-01T01:58:54.258437Z"
    }
   },
   "outputs": [
    {
     "data": {
      "text/plain": [
       "105223.09403"
      ]
     },
     "execution_count": 19,
     "metadata": {},
     "output_type": "execute_result"
    }
   ],
   "source": [
    "# Final answer \n",
    "rev_2013 = df.query(\"country == ['US', 'FR','ES'] & year == '2013'\").revenue.median()\n",
    "print(rev_2013"
   ]
  },
  {
   "cell_type": "markdown",
   "metadata": {},
   "source": [
    "Was it more or less than 2012?"
   ]
  },
  {
   "cell_type": "code",
   "execution_count": 20,
   "metadata": {
    "ExecuteTime": {
     "end_time": "2021-02-01T01:59:06.618128Z",
     "start_time": "2021-02-01T01:59:06.601160Z"
    }
   },
   "outputs": [
    {
     "data": {
      "text/plain": [
       "84150.48882"
      ]
     },
     "execution_count": 20,
     "metadata": {},
     "output_type": "execute_result"
    }
   ],
   "source": [
    "rev_2012 = df.query(\"country == ['US', 'FR','ES'] & year == '2012'\").revenue.median()\n",
    "rev_2012"
   ]
  },
  {
   "cell_type": "code",
   "execution_count": 24,
   "metadata": {
    "ExecuteTime": {
     "end_time": "2021-02-01T02:16:40.219946Z",
     "start_time": "2021-02-01T02:16:40.212945Z"
    }
   },
   "outputs": [
    {
     "name": "stdout",
     "output_type": "stream",
     "text": [
      "Revenue in 2013 was more then in 2012 by $21072.605209999994\n"
     ]
    }
   ],
   "source": [
    "# Final answer \n",
    "if rev_2013 > rev_2012:\n",
    "    print(f'Revenue in 2013 was more then in 2012 by ${rev_2013 - rev_2012}')\n",
    "else:\n",
    "    print(f'Revenue in 2012 was more then in 2013 by ${rev_2012 - rev_2013}')\n",
    "    \n"
   ]
  },
  {
   "cell_type": "markdown",
   "metadata": {},
   "source": [
    "What drove that difference? "
   ]
  },
  {
   "cell_type": "code",
   "execution_count": null,
   "metadata": {},
   "outputs": [],
   "source": []
  },
  {
   "cell_type": "markdown",
   "metadata": {},
   "source": [
    "Looking now at all countries, which product group had the biggest decline in median revenue from 2013 to 2014, by dollar amount? "
   ]
  },
  {
   "cell_type": "code",
   "execution_count": null,
   "metadata": {},
   "outputs": [],
   "source": []
  },
  {
   "cell_type": "markdown",
   "metadata": {},
   "source": [
    "Looking now at all countries, which product group had the biggest decline in median revenue from 2013 to 2014, by percent change?"
   ]
  },
  {
   "cell_type": "code",
   "execution_count": null,
   "metadata": {},
   "outputs": [],
   "source": []
  },
  {
   "cell_type": "code",
   "execution_count": null,
   "metadata": {},
   "outputs": [],
   "source": []
  },
  {
   "cell_type": "code",
   "execution_count": null,
   "metadata": {},
   "outputs": [],
   "source": []
  }
 ],
 "metadata": {
  "kernelspec": {
   "display_name": "Python 3",
   "language": "python",
   "name": "python3"
  },
  "language_info": {
   "codemirror_mode": {
    "name": "ipython",
    "version": 3
   },
   "file_extension": ".py",
   "mimetype": "text/x-python",
   "name": "python",
   "nbconvert_exporter": "python",
   "pygments_lexer": "ipython3",
   "version": "3.7.4"
  },
  "toc": {
   "base_numbering": 1,
   "nav_menu": {},
   "number_sections": true,
   "sideBar": true,
   "skip_h1_title": false,
   "title_cell": "Table of Contents",
   "title_sidebar": "Contents",
   "toc_cell": false,
   "toc_position": {},
   "toc_section_display": true,
   "toc_window_display": false
  }
 },
 "nbformat": 4,
 "nbformat_minor": 2
}
